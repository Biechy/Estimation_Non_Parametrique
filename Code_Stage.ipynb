{
 "cells": [
  {
   "cell_type": "markdown",
   "id": "eee69ae8",
   "metadata": {},
   "source": [
    "# Code"
   ]
  },
  {
   "cell_type": "markdown",
   "id": "1066e28d",
   "metadata": {},
   "source": [
    "## Imports"
   ]
  },
  {
   "cell_type": "code",
   "execution_count": null,
   "id": "8e3b65e4",
   "metadata": {},
   "outputs": [],
   "source": [
    "#Bibliothèques\n",
    "import numpy as np\n",
    "import random as rd\n",
    "import matplotlib.pyplot as plt\n",
    "import time\n",
    "import scipy as sc\n",
    "from sklearn.metrics import mean_squared_error"
   ]
  },
  {
   "cell_type": "markdown",
   "id": "ea5cb633",
   "metadata": {},
   "source": [
    "## Latex sur Jupyter"
   ]
  },
  {
   "cell_type": "code",
   "execution_count": null,
   "id": "ed3ce92b",
   "metadata": {},
   "outputs": [],
   "source": [
    "%matplotlib inline\n",
    "%matplotlib notebook\n",
    "\n",
    "#LaTex\n",
    "from matplotlib import rc\n",
    "\n",
    "rc('font',**{'family':'sans-serif','sans-serif':['Helvetica']})\n",
    "rc('text', usetex=True)\n",
    "\n",
    "plt.rc('text', usetex=True)\n",
    "plt.rc('font', family='serif')"
   ]
  },
  {
   "cell_type": "markdown",
   "id": "9da22189",
   "metadata": {},
   "source": [
    "## Noyau"
   ]
  },
  {
   "cell_type": "code",
   "execution_count": null,
   "id": "c6b16ff9",
   "metadata": {},
   "outputs": [],
   "source": [
    "#Noyau gaussien\n",
    "def K5(u) :\n",
    "    return (1/np.sqrt(2*np.pi))*np.exp(-(u**2)/2)"
   ]
  },
  {
   "cell_type": "markdown",
   "id": "8c1528a2",
   "metadata": {},
   "source": [
    "## Création des lois pour les échantillons"
   ]
  },
  {
   "cell_type": "code",
   "execution_count": null,
   "id": "931c843e",
   "metadata": {},
   "outputs": [],
   "source": [
    "def Gauss(n,mu,sigma):\n",
    "    return np.random.normal(mu,sigma,n)\n",
    "\n",
    "def Kurtotic(n):\n",
    "    weights = [2/3,1/3]\n",
    "    X = []\n",
    "    multinom = np.random.multinomial(1, weights, n) \n",
    "    X.append(np.random.normal(0,1,n))\n",
    "    X.append(np.random.normal(0,0.1,n))\n",
    "    Y = multinom * np.transpose(X)\n",
    "    return np.extract(Y!=0,Y)\n",
    "\n",
    "def AsymmetricBimodal(n):\n",
    "    weights = [3/4,1/4]\n",
    "    X = []\n",
    "    multinom = np.random.multinomial(1, weights, n) \n",
    "    X.append(np.random.normal(0,1,n))\n",
    "    X.append(np.random.normal(3/2,1/3,n))\n",
    "    Y = multinom * np.transpose(X)\n",
    "    return np.extract(Y!=0,Y)\n",
    "\n",
    "def Claw(n):\n",
    "    weights = np.append(0.1 * np.ones(5), 0.5)\n",
    "    multinom = np.random.multinomial(1, weights, n) \n",
    "    X1 = []\n",
    "    for i in range (len(weights)-1):\n",
    "        X1.append(np.random.normal(0.5*i - 1,0.1,n))  \n",
    "    X1.append(np.random.normal(0,1,n))\n",
    "    X2 = multinom * np.transpose(X1)\n",
    "    return np.extract(X2!=0,X2)\n",
    "\n",
    "def AsymmetricClaw(n):    \n",
    "    X1 = []\n",
    "    weights = []\n",
    "    for i in range (-2,3):\n",
    "        X1.append(np.random.normal(0.5+i,((2**-i)/10),n))\n",
    "        weights.append((2**(1-i))/31)\n",
    "    X1.append(np.random.normal(0,1,n))\n",
    "    weights.append(0.5)\n",
    "    multinom = np.random.multinomial(1, weights, n)\n",
    "    X2 = multinom * np.transpose(X1)\n",
    "    \n",
    "    return np.extract(X2!=0,X2)"
   ]
  },
  {
   "cell_type": "markdown",
   "id": "e7ceb8a4",
   "metadata": {},
   "source": [
    "## Densités réelles correspondantes"
   ]
  },
  {
   "cell_type": "code",
   "execution_count": null,
   "id": "a706e15c",
   "metadata": {},
   "outputs": [],
   "source": [
    "def density_Gaussian(x,mu,sigma):\n",
    "    return (1/np.sqrt(2*np.pi*sigma**2))*np.exp(-(x-mu)**2/(2*sigma**2))\n",
    "\n",
    "def density_Kurtotic(x):\n",
    "    return (2/3)*(1/np.sqrt(2*np.pi)*np.exp(-x**2/2)) + (1/3)*(1/np.sqrt(2*np.pi*0.1**2)*np.exp(-x**2/(2*0.1**2)))\n",
    "\n",
    "def density_ABi(x):\n",
    "    return (3/4)*(1/np.sqrt(2*np.pi)*np.exp(-x**2/2)) + (1/4)*(1/np.sqrt(2*np.pi*(1/3)**2)*np.exp(-(x-3/2)**2/(2*(1/3)**2)))\n",
    "\n",
    "def density_Claw(x):\n",
    "    f = 0.5*(1/np.sqrt(2*np.pi)*np.exp(-x**2/2))\n",
    "    for i in range(0,5):\n",
    "        f+= 0.1*(1/np.sqrt(2*np.pi*(0.1)**2))*np.exp(-(x-(0.5*i - 1))**2/(2*(0.1)**2))\n",
    "    return f\n",
    "\n",
    "def density_AC(x):\n",
    "    f = 0.5*(1/np.sqrt(2*np.pi)*np.exp(-x**2/2))\n",
    "    for i in range(-2,3):\n",
    "        f+= (2**(1-i)/31)*(1/np.sqrt(2*np.pi*(2**(-i)/10)**2))*np.exp(-(x-(0.5+i))**2/(2*(2**(-i)/10)**2))\n",
    "    return f"
   ]
  },
  {
   "cell_type": "markdown",
   "id": "0f9d2eec",
   "metadata": {},
   "source": [
    "## Implémentation de l'estimateur à noyau"
   ]
  },
  {
   "cell_type": "code",
   "execution_count": null,
   "id": "4960d8e5",
   "metadata": {},
   "outputs": [],
   "source": [
    "#création de l'estimateur à noyau d'une densité en un point\n",
    "def Density_EstimatorPoint(X, x, h, K,n):\n",
    "    return (1/(h*n))*np.sum(K((X-x)/h))\n",
    "\n",
    "#création de l'estimateur à noyau d'une densité en tout point\n",
    "def Density_Estimator(X, x, h, K,n):\n",
    "    density_estimator = np.zeros(len(x))\n",
    "    for i in range(len(x)):\n",
    "        density_estimator[i] = Density_EstimatorPoint(X, x[i], h, K,n)\n",
    "    return density_estimator"
   ]
  },
  {
   "cell_type": "markdown",
   "id": "fb82d461",
   "metadata": {},
   "source": [
    "## Risque quadratique"
   ]
  },
  {
   "cell_type": "code",
   "execution_count": null,
   "id": "15654048",
   "metadata": {},
   "outputs": [],
   "source": [
    "#On définit la MISE\n",
    "def MISE (pn,p):\n",
    "    return (1/pn.size)*np.sum((pn-p)**2)"
   ]
  },
  {
   "cell_type": "markdown",
   "id": "1de24eae",
   "metadata": {},
   "source": [
    "## Minimisation du risque quadratique"
   ]
  },
  {
   "cell_type": "markdown",
   "id": "a49eae2f",
   "metadata": {},
   "source": [
    "### Silverman's Rule"
   ]
  },
  {
   "cell_type": "code",
   "execution_count": null,
   "id": "df7a4748",
   "metadata": {},
   "outputs": [],
   "source": [
    "def Silverman (X,n):\n",
    "    sigma = np.std(X)\n",
    "    return 1.06 * sigma * n**(-1/5) "
   ]
  },
  {
   "cell_type": "markdown",
   "id": "e89169eb",
   "metadata": {},
   "source": [
    "### Unbiased Cross Validation"
   ]
  },
  {
   "cell_type": "code",
   "execution_count": null,
   "id": "fe5918da",
   "metadata": {},
   "outputs": [],
   "source": [
    "def UCV(X,x,h,K,n):\n",
    "    R = []\n",
    "    \n",
    "    Xi, Xj = np.meshgrid(X, X)\n",
    "    XX = Xi - Xj\n",
    "    \n",
    "    for i in h:\n",
    "        a1 = K_h(K, np.sqrt(2)*i, XX)\n",
    "        a = np.sum(np.sum(a1,axis=0)) / (n**2)\n",
    "        \n",
    "        b1 = K(XX/i)\n",
    "        b1[np.diag_indices(len(X))]=0\n",
    "        b2 = np.sum(np.sum(b1, axis=0))/i\n",
    "        b = 2/(n*(n-1))*b2\n",
    "\n",
    "        R = np.append(R, a-b )\n",
    "        \n",
    "    return R"
   ]
  },
  {
   "cell_type": "markdown",
   "id": "2a8edd20",
   "metadata": {},
   "source": [
    "### Penalized Comparison to Overfitting"
   ]
  },
  {
   "cell_type": "code",
   "execution_count": null,
   "id": "bdd562cc",
   "metadata": {},
   "outputs": [],
   "source": [
    "def K_h(K,h,u):\n",
    "    return (1/h)*K(u/h)"
   ]
  },
  {
   "cell_type": "code",
   "execution_count": null,
   "id": "4ce6c065",
   "metadata": {},
   "outputs": [],
   "source": [
    "def PCO(X,x,h,K,n,lam=1):\n",
    "    hmin = min(h)\n",
    "    K_hmin = K_h(K,hmin,x)\n",
    "    Crit = []\n",
    "    \n",
    "    \n",
    "    #création du tableau pour la double somme\n",
    "    Xi, Xj = np.meshgrid(X, X)\n",
    "    XX = Xi - Xj\n",
    "    for i in h :\n",
    "        a1 = K_h(K, np.sqrt(2)*i, XX)\n",
    "        a2 = np.sum(np.sum(a1,axis=0)) / (n**2)\n",
    "        a3 = K_h(K, np.sqrt(i**2+hmin**2), XX)\n",
    "        a4 = 2 * np.sum( np.sum(a3,axis=0)) / (n**2)\n",
    "        a = a2 - a4\n",
    "        b = np.trapz((K_hmin-K_h(K,i,x))**2,x)/n\n",
    "        c = lam*np.trapz(K_h(K,i,x)**2,x)/n\n",
    "        newCrit = a - b + c\n",
    "        Crit = np.append(Crit, newCrit)\n",
    "    \n",
    "    return Crit"
   ]
  },
  {
   "cell_type": "markdown",
   "id": "9ab3edcb",
   "metadata": {},
   "source": [
    "### Algorithme de Recuit Simulé"
   ]
  },
  {
   "cell_type": "code",
   "execution_count": null,
   "id": "0dde44d3",
   "metadata": {},
   "outputs": [],
   "source": [
    "#Premier algorithme de minimisation de l'erreur utilisant les chaînes de Markov\n",
    "def Errmin(Ni,beta,Var,dom,K,p,h_init):\n",
    "    pn_init = Density_Estimator(Var,dom,h_init,K,n)\n",
    "    Err_init = MISE(pn_init,p)\n",
    "\n",
    "    Err = [Err_init]\n",
    "    h = [h_init]\n",
    "    X1 = pn_init\n",
    "\n",
    "    for i in range (Ni) :\n",
    "        htest = np.random.rand()\n",
    "        X_tmp = Density_Estimator(Var,dom,htest,K,n)\n",
    "        Err1 = MISE(X1,p)\n",
    "        Err2 = MISE(X_tmp,p)\n",
    "        r = np.exp( -beta * (Err2 - Err1) ) \n",
    "        if r > 1 :\n",
    "            X1 = X_tmp\n",
    "            Err.append(Err2)\n",
    "            h.append(htest)\n",
    "        else : \n",
    "            u = np.random.random()\n",
    "            if r > u :\n",
    "                X1 = X_tmp\n",
    "                Err.append(Err2)\n",
    "                h.append(htest)\n",
    "            else :\n",
    "                Err.append(Err1)\n",
    "    \n",
    "    return Err,h"
   ]
  },
  {
   "cell_type": "markdown",
   "id": "3f3c96b8",
   "metadata": {},
   "source": [
    "# Génération des échantillons et des espaces associés"
   ]
  },
  {
   "cell_type": "markdown",
   "id": "9d441bb0",
   "metadata": {},
   "source": [
    "## Taille de l'échantillon et fenêtre initiale"
   ]
  },
  {
   "cell_type": "code",
   "execution_count": null,
   "id": "71379052",
   "metadata": {},
   "outputs": [],
   "source": [
    "#Nombre d'échantillons\n",
    "N = 50\n",
    "\n",
    "#Taille de l'échantillon\n",
    "n = 1000\n",
    "\n",
    "#Fenêtre initiale non-optimale\n",
    "h_i = 0.4\n",
    "\n",
    "#tableau des fenêtres\n",
    "h = np.linspace(10**(-2),0.5,1000)"
   ]
  },
  {
   "cell_type": "markdown",
   "id": "b0563c34",
   "metadata": {},
   "source": [
    "## Vecteurs aléatoires"
   ]
  },
  {
   "cell_type": "code",
   "execution_count": null,
   "id": "08f3bba5",
   "metadata": {},
   "outputs": [],
   "source": [
    "#Générations des échantillons\n",
    "Gaussian = np.zeros((N,n)) \n",
    "Kurt = np.zeros((N,n)) \n",
    "ABi = np.zeros((N,n))\n",
    "Cl = np.zeros((N,n))\n",
    "ACl = np.zeros((N,n))\n",
    "\n",
    "for i in range (N) : \n",
    "    Gaussian[i] = Gauss(n,0,1)\n",
    "    Kurt[i] = Kurtotic(n)\n",
    "    ABi[i] = AsymmetricBimodal(n)\n",
    "    Cl[i] = Claw(n)\n",
    "    ACl[i] = AsymmetricClaw(n)"
   ]
  },
  {
   "cell_type": "markdown",
   "id": "53eddc4b",
   "metadata": {},
   "source": [
    "## Espaces associés"
   ]
  },
  {
   "cell_type": "code",
   "execution_count": null,
   "id": "c2cc008a",
   "metadata": {},
   "outputs": [],
   "source": [
    "#On cherche à avoir un nombre de points sur lesquels l'estimateur est évalué très supérieur à la taille de l'échantillon\n",
    "domaine = np.linspace(-3,3,10000)"
   ]
  },
  {
   "cell_type": "markdown",
   "id": "d660a5a6",
   "metadata": {},
   "source": [
    "# Test du Code"
   ]
  },
  {
   "cell_type": "markdown",
   "id": "a13486a1",
   "metadata": {},
   "source": [
    "## Tableaux des densités réelles"
   ]
  },
  {
   "cell_type": "code",
   "execution_count": null,
   "id": "c38343ef",
   "metadata": {},
   "outputs": [],
   "source": [
    "density_Gauss = density_Gaussian(domaine,0,1)\n",
    "density_Kurtotic = density_Kurtotic(domaine)\n",
    "density_ABi = density_ABi(domaine)\n",
    "density_Claw = density_Claw(domaine)\n",
    "density_AC = density_AC(domaine)"
   ]
  },
  {
   "cell_type": "markdown",
   "id": "311a23bb",
   "metadata": {},
   "source": [
    "## Plot des densités réelles "
   ]
  },
  {
   "cell_type": "code",
   "execution_count": null,
   "id": "6c8f1088",
   "metadata": {},
   "outputs": [],
   "source": [
    "fig, (ax1, ax2, ax3, ax4, ax5) = plt.subplots(5,figsize=(9, 12), dpi=100)\n",
    "ax1.set_title(\"Densités réelles\")\n",
    "\n",
    "ax1.plot(domaine,density_Gauss,label = \"Densité Gaussienne\")\n",
    "ax2.plot(domaine,density_Kurtotic,label = \"Densité Kurtotic\")\n",
    "ax3.plot(domaine,density_ABi,label = \"Densité Bimodale asymétrique\")\n",
    "ax4.plot(domaine,density_Claw, label = \"Densité Griffe\")\n",
    "ax5.plot(domaine,density_AC, label = \"Densité Griffe asymétrique\")\n",
    "\n",
    "\n",
    "ax1.grid(True,which=\"both\", linestyle='--')\n",
    "ax2.grid(True,which=\"both\", linestyle='--')\n",
    "ax3.grid(True,which=\"both\", linestyle='--')\n",
    "ax4.grid(True,which=\"both\", linestyle='--')\n",
    "ax5.grid(True,which=\"both\", linestyle='--')\n",
    "\n",
    "ax1.legend()\n",
    "ax2.legend()\n",
    "ax3.legend()\n",
    "ax4.legend()\n",
    "ax5.legend()\n",
    "\n",
    "ax1.set_ylabel(\"y\")\n",
    "ax2.set_ylabel(\"y\")\n",
    "ax3.set_ylabel(\"y\")\n",
    "ax4.set_ylabel(\"y\")\n",
    "ax5.set_ylabel(\"y\")\n",
    "\n",
    "ax5.set_xlabel(\"x\")\n",
    "\n",
    "\n",
    "plt.legend()\n",
    "plt.show()"
   ]
  },
  {
   "cell_type": "markdown",
   "id": "3290cf1c",
   "metadata": {},
   "source": [
    "## Premières estimations et risque quadratique avec une fenêtre non-optimale"
   ]
  },
  {
   "cell_type": "code",
   "execution_count": null,
   "id": "d97bc233",
   "metadata": {},
   "outputs": [],
   "source": [
    "#Tableaux des estimateurs pour tous les échantillons\n",
    "Gaussian_estimation1 = np.zeros((N,10000))\n",
    "Kurtotic_estimation1 = np.zeros((N,10000))\n",
    "AsymmetricBimodal_estimation1 = np.zeros((N,10000))\n",
    "Claw_estimation1 = np.zeros((N,10000))\n",
    "AsymmetricClaw_estimation1 = np.zeros((N,10000))\n",
    "\n",
    "Gauss_MISE1 = np.zeros((N,1))\n",
    "Kurtotic_MISE1 = np.zeros((N,1))\n",
    "AsymmetricBimodal_MISE1 = np.zeros((N,1))\n",
    "Claw_MISE1 = np.zeros((N,1))\n",
    "AsymmetricClaw_MISE1 = np.zeros((N,1))\n",
    "\n",
    "\n",
    "for i in range (N):\n",
    "    \n",
    "    Gaussian_estimation1[i] = Density_Estimator(Gaussian[i],domaine,h_i,K5,n)\n",
    "    Kurtotic_estimation1[i] = Density_Estimator(Kurt[i],domaine,h_i,K5,n)\n",
    "    AsymmetricBimodal_estimation1[i] = Density_Estimator(ABi[i],domaine,h_i,K5,n)\n",
    "    Claw_estimation1[i] = Density_Estimator(Cl[i],domaine,h_i,K5,n)\n",
    "    AsymmetricClaw_estimation1[i] = Density_Estimator(ACl[i],domaine,h_i,K5,n)\n",
    "\n",
    "#Risques quadratiques associés\n",
    "    Gauss_MISE1[i] = MISE(Gaussian_estimation1[i], density_Gauss)\n",
    "    Kurtotic_MISE1[i] = MISE(Kurtotic_estimation1[i], density_Kurtotic)\n",
    "    AsymmetricBimodal_MISE1[i] = MISE(AsymmetricBimodal_estimation1[i], density_ABi)\n",
    "    Claw_MISE1[i] = MISE(Claw_estimation1[i], density_Claw)\n",
    "    AsymmetricClaw_MISE1[i] = MISE(AsymmetricClaw_estimation1[i], density_AC)"
   ]
  },
  {
   "cell_type": "code",
   "execution_count": null,
   "id": "40773298",
   "metadata": {},
   "outputs": [],
   "source": [
    "#Plots des premiers estimateurs\n",
    "fig, (ax1, ax2, ax3, ax4, ax5) = plt.subplots(5,figsize=(9, 12), dpi=100)\n",
    "ax1.set_title(\"Premières estimations pour une fenêtre arbitraire non-optimale\")\n",
    "\n",
    "\n",
    "ax1.plot(domaine,density_Gauss,label = \"Densité Gaussienne\")\n",
    "ax2.plot(domaine,density_Kurtotic,label = \"Densité Kurtotic\")\n",
    "ax3.plot(domaine,density_ABi,label = \"Densité Bimodale asymétrique\")\n",
    "ax4.plot(domaine,density_Claw, label = \"Densité Griffe\")\n",
    "ax5.plot(domaine,density_AC, label = \"Densité Griffe asymétrique\")\n",
    "\n",
    "\n",
    "ax1.plot(domaine,Gaussian_estimation1[0],label = \"Echantillon Gaussien\")\n",
    "ax2.plot(domaine,Kurtotic_estimation1[0],label = \"Echantillon Kurtotic\")\n",
    "ax3.plot(domaine,AsymmetricBimodal_estimation1[0],label = \"Echantillon Bimodal asymétrique\")\n",
    "ax4.plot(domaine,Claw_estimation1[0], label = \"Echantillon Griffe\")\n",
    "ax5.plot(domaine,AsymmetricClaw_estimation1[0], label = \"Echantillon Griffe asymétrique\")\n",
    "\n",
    "\n",
    "ax1.grid(True,which=\"both\", linestyle='--')\n",
    "ax2.grid(True,which=\"both\", linestyle='--')\n",
    "ax3.grid(True,which=\"both\", linestyle='--')\n",
    "ax4.grid(True,which=\"both\", linestyle='--')\n",
    "ax5.grid(True,which=\"both\", linestyle='--')\n",
    "\n",
    "ax1.legend()\n",
    "ax2.legend()\n",
    "ax3.legend()\n",
    "ax4.legend()\n",
    "ax5.legend()\n",
    "\n",
    "ax1.set_ylabel(\"y\")\n",
    "ax2.set_ylabel(\"y\")\n",
    "ax3.set_ylabel(\"y\")\n",
    "ax4.set_ylabel(\"y\")\n",
    "ax5.set_ylabel(\"y\")\n",
    "\n",
    "ax5.set_xlabel(\"x\")\n",
    "\n",
    "\n",
    "plt.legend()\n",
    "plt.show()"
   ]
  },
  {
   "cell_type": "code",
   "execution_count": null,
   "id": "335ce9f0",
   "metadata": {},
   "outputs": [],
   "source": [
    "#Affichage des risques quadratiques\n",
    "print(\"Pour une fenêtre arbitraire, le risque quadratique moyen de 50 échantillons vaut : \")\n",
    "print(\" \")\n",
    "print(\"R_INIT =\",np.mean(Gauss_MISE1),\"pour l'échantillon gaussien.\")\n",
    "print(\" \")\n",
    "print(\"R_INIT =\",np.mean(Kurtotic_MISE1),\"pour l'échantillon Kurtotic.\")\n",
    "print(\" \")\n",
    "print(\"R_INIT =\",np.mean(AsymmetricBimodal_MISE1),\"pour l'échantillon Bimodal asymétrique.\")\n",
    "print(\" \")\n",
    "print(\"R_INIT =\",np.mean(Claw_MISE1),\"pour l'échantillon Griffe.\")\n",
    "print(\" \")\n",
    "print(\"R_INIT =\",np.mean(AsymmetricClaw_MISE1),\"pour l'échantillon Griffe asymétrique.\")"
   ]
  },
  {
   "cell_type": "markdown",
   "id": "9ad61345",
   "metadata": {},
   "source": [
    "## Silverman's Rule"
   ]
  },
  {
   "cell_type": "code",
   "execution_count": null,
   "id": "d5c2776f",
   "metadata": {},
   "outputs": [],
   "source": [
    "#Calcul du h_SILVER pour tous les échantillons\n",
    "h_Gauss_SILVER = np.zeros((N,1))\n",
    "h_Kurtotic_SILVER = np.zeros((N,1))\n",
    "h_ABi_SILVER = np.zeros((N,1))\n",
    "h_Claw_SILVER = np.zeros((N,1))\n",
    "h_AC_SILVER = np.zeros((N,1))\n",
    "\n",
    "Gaussian_estimation_SILVER = np.zeros((N,10000))\n",
    "Kurtotic_estimation_SILVER = np.zeros((N,10000))\n",
    "AsymmetricBimodal_estimation_SILVER = np.zeros((N,10000))\n",
    "Claw_estimation_SILVER = np.zeros((N,10000))\n",
    "AsymmetricClaw_estimation_SILVER = np.zeros((N,10000))\n",
    "\n",
    "Gauss_MISE_SILVER = np.zeros((N,1))\n",
    "Kurtotic_MISE_SILVER = np.zeros((N,1))\n",
    "AsymmetricBimodal_MISE_SILVER = np.zeros((N,1))\n",
    "Claw_MISE_SILVER = np.zeros((N,1))\n",
    "AsymmetricClaw_MISE_SILVER = np.zeros((N,1))\n",
    "\n",
    "for i in range (N):\n",
    "\n",
    "    h_Gauss_SILVER[i] = Silverman(Gaussian[i],n)\n",
    "    h_Kurtotic_SILVER[i] = Silverman(Kurt[i],n)\n",
    "    h_ABi_SILVER[i] = Silverman(ABi[i],n)\n",
    "    h_Claw_SILVER[i] = Silverman(Cl[i],n)\n",
    "    h_AC_SILVER[i] = Silverman(ACl[i],n)\n",
    "\n",
    "#Calcul de l'estimateur avec le h_Silver\n",
    "    Gaussian_estimation_SILVER[i] = Density_Estimator(Gaussian[i],domaine,h_Gauss_SILVER[i],K5,n)\n",
    "    Kurtotic_estimation_SILVER[i] = Density_Estimator(Kurt[i],domaine,h_Kurtotic_SILVER[i],K5,n)\n",
    "    AsymmetricBimodal_estimation_SILVER[i] = Density_Estimator(ABi[i],domaine,h_ABi_SILVER[i],K5,n)\n",
    "    Claw_estimation_SILVER[i] = Density_Estimator(Cl[i],domaine,h_Claw_SILVER[i],K5,n)\n",
    "    AsymmetricClaw_estimation_SILVER[i] = Density_Estimator(ACl[i],domaine,h_AC_SILVER[i],K5,n)\n",
    "\n",
    "#Risques quadratiques associés\n",
    "    Gauss_MISE_SILVER[i] = MISE(Gaussian_estimation_SILVER[i], density_Gauss)\n",
    "    Kurtotic_MISE_SILVER[i] = MISE(Kurtotic_estimation_SILVER[i], density_Kurtotic)\n",
    "    AsymmetricBimodal_MISE_SILVER[i] = MISE(AsymmetricBimodal_estimation_SILVER[i], density_ABi)\n",
    "    Claw_MISE_SILVER[i] = MISE(Claw_estimation_SILVER[i], density_Claw)\n",
    "    AsymmetricClaw_MISE_SILVER[i] = MISE(AsymmetricClaw_estimation_SILVER[i], density_AC)"
   ]
  },
  {
   "cell_type": "code",
   "execution_count": null,
   "id": "01fc5316",
   "metadata": {},
   "outputs": [],
   "source": [
    "fig, (ax1, ax2, ax3, ax4, ax5) = plt.subplots(5,figsize=(9, 12), dpi=100)\n",
    "ax1.set_title(\"Estimations pour une fenêtre optimisée avec la règle du pouce\")\n",
    "\n",
    "\n",
    "ax1.plot(domaine,density_Gauss,label = \"Densité Gaussienne\")\n",
    "ax2.plot(domaine,density_Kurtotic,label = \"Densité Kurtotic\")\n",
    "ax3.plot(domaine,density_ABi,label = \"Densité Bimodale asymétrique\")\n",
    "ax4.plot(domaine,density_Claw, label = \"Densité Griffe\")\n",
    "ax5.plot(domaine,density_AC, label = \"Densité Griffe asymétrique\")\n",
    "\n",
    "\n",
    "ax1.plot(domaine,Gaussian_estimation_SILVER[0],label = \"Echantillon Gaussien\")\n",
    "ax2.plot(domaine,Kurtotic_estimation_SILVER[0],label = \"Echantillon Kurtotic\")\n",
    "ax3.plot(domaine,AsymmetricBimodal_estimation_SILVER[0],label = \"Echantillon Bimodal asymétrique\")\n",
    "ax4.plot(domaine,Claw_estimation_SILVER[0], label = \"Echantillon Griffe\")\n",
    "ax5.plot(domaine,AsymmetricClaw_estimation_SILVER[0], label = \"Echantillon Griffe asymétrique\")\n",
    "\n",
    "\n",
    "ax1.grid(True,which=\"both\", linestyle='--')\n",
    "ax2.grid(True,which=\"both\", linestyle='--')\n",
    "ax3.grid(True,which=\"both\", linestyle='--')\n",
    "ax4.grid(True,which=\"both\", linestyle='--')\n",
    "ax5.grid(True,which=\"both\", linestyle='--')\n",
    "\n",
    "ax1.legend()\n",
    "ax2.legend()\n",
    "ax3.legend()\n",
    "ax4.legend()\n",
    "ax5.legend()\n",
    "\n",
    "ax1.set_ylabel(\"y\")\n",
    "ax2.set_ylabel(\"y\")\n",
    "ax3.set_ylabel(\"y\")\n",
    "ax4.set_ylabel(\"y\")\n",
    "ax5.set_ylabel(\"y\")\n",
    "\n",
    "ax5.set_xlabel(\"x\")\n",
    "\n",
    "\n",
    "plt.legend()\n",
    "plt.show()"
   ]
  },
  {
   "cell_type": "code",
   "execution_count": null,
   "id": "d6cb36cc",
   "metadata": {},
   "outputs": [],
   "source": [
    "#Affichage des risques quadratiques pour la règle du pouce\n",
    "print(\"Pour une fenêtre optimisée avec la règle du pouce, le risque quadratique moyen de 50 échantillons vaut : \")\n",
    "print(\" \")\n",
    "print(\"R_SILVER =\",np.mean(Gauss_MISE_SILVER),\"pour l'échantillon gaussien.\")\n",
    "print(\" \")\n",
    "print(\"R_SILVER =\",np.mean(Kurtotic_MISE_SILVER),\"pour l'échantillon Kurtotic.\")\n",
    "print(\" \")\n",
    "print(\"R_SILVER =\",np.mean(AsymmetricBimodal_MISE_SILVER),\"pour l'échantillon Bimodal asymétrique.\")\n",
    "print(\" \")\n",
    "print(\"R_SILVER =\",np.mean(Claw_MISE_SILVER),\"pour l'échantillon Griffe.\")\n",
    "print(\" \")\n",
    "print(\"R_SILVER =\",np.mean(AsymmetricClaw_MISE_SILVER),\"pour l'échantillon Griffe asymétrique.\")"
   ]
  },
  {
   "cell_type": "markdown",
   "id": "111a6188",
   "metadata": {},
   "source": [
    "## Unbiased Cross Validation"
   ]
  },
  {
   "cell_type": "code",
   "execution_count": null,
   "id": "19289cda",
   "metadata": {
    "code_folding": []
   },
   "outputs": [],
   "source": [
    "#Tableau du critère UCV\n",
    "Gauss_ucv = np.zeros ((50,1000))\n",
    "Kurtotic_ucv = np.zeros ((50,1000))\n",
    "ABi_ucv = np.zeros ((50,1000))\n",
    "Claw_ucv = np.zeros ((50,1000))\n",
    "AC_ucv = np.zeros ((50,1000))\n",
    "\n",
    "h_Gauss_UCV = np.zeros((50,1))\n",
    "h_Kurtotic_UCV = np.zeros((50,1))\n",
    "h_ABi_UCV = np.zeros((50,1))\n",
    "h_Claw_UCV = np.zeros((50,1))\n",
    "h_AC_UCV = np.zeros((50,1))\n",
    "\n",
    "Gaussian_estimation_UCV = np.zeros((N,10000))\n",
    "Kurtotic_estimation_UCV = np.zeros((N,10000))\n",
    "AsymmetricBimodal_estimation_UCV = np.zeros((N,10000))\n",
    "Claw_estimation_UCV = np.zeros((N,10000))\n",
    "AsymmetricClaw_estimation_UCV = np.zeros((N,10000))\n",
    "\n",
    "Gauss_MISE_UCV = np.zeros((N,1))\n",
    "Kurtotic_MISE_UCV = np.zeros((N,1))\n",
    "AsymmetricBimodal_MISE_UCV = np.zeros((N,1))\n",
    "Claw_MISE_UCV = np.zeros((N,1))\n",
    "AsymmetricClaw_MISE_UCV = np.zeros((N,1))\n",
    "\n",
    "for i in range (N): \n",
    "    \n",
    "    #recherche du critère pour un échantillon\n",
    "    Gauss_ucv[i] = UCV(Gaussian[i],domaine,h,K5,n)\n",
    "    Kurtotic_ucv[i] = UCV(Kurt[i],domaine,h,K5,n)\n",
    "    ABi_ucv[i] = UCV(ABi[i],domaine,h,K5,n)\n",
    "    Claw_ucv[i] = UCV(Cl[i],domaine,h,K5,n)\n",
    "    AC_ucv[i] = UCV(ACl[i],domaine,h,K5,n)\n",
    "    \n",
    "    #prend le h optimal pour ce même échantillon\n",
    "    h_Gauss_UCV[i] = h[np.argmin(Gauss_ucv[i])]\n",
    "    h_Kurtotic_UCV[i] = h[np.argmin(Kurtotic_ucv[i])]\n",
    "    h_ABi_UCV[i] = h[np.argmin(ABi_ucv[i])]\n",
    "    h_Claw_UCV[i] = h[np.argmin(Claw_ucv[i])]\n",
    "    h_AC_UCV[i] = h[np.argmin(AC_ucv[i])]\n",
    "    \n",
    "    #estimations des densitées avec ce h opti\n",
    "    Gaussian_estimation_UCV[i] = Density_Estimator(Gaussian[i],domaine,h_Gauss_UCV[i],K5,n)\n",
    "    Kurtotic_estimation_UCV[i] = Density_Estimator(Kurt[i],domaine,h_Kurtotic_UCV[i],K5,n)\n",
    "    AsymmetricBimodal_estimation_UCV[i] = Density_Estimator(ABi[i],domaine,h_ABi_UCV[i],K5,n)\n",
    "    Claw_estimation_UCV[i] = Density_Estimator(Cl[i],domaine,h_Claw_UCV[i],K5,n)\n",
    "    AsymmetricClaw_estimation_UCV[i] = Density_Estimator(ACl[i],domaine,h_AC_UCV[i],K5,n)\n",
    "\n",
    "    #Risques quadratiques associés\n",
    "    Gauss_MISE_UCV[i] = MISE(Gaussian_estimation_UCV[i], density_Gauss)\n",
    "    Kurtotic_MISE_UCV[i] = MISE(Kurtotic_estimation_UCV[i], density_Kurtotic)\n",
    "    AsymmetricBimodal_MISE_UCV[i] = MISE(AsymmetricBimodal_estimation_UCV[i], density_ABi)\n",
    "    Claw_MISE_UCV[i] = MISE(Claw_estimation_UCV[i], density_Claw)\n",
    "    AsymmetricClaw_MISE_UCV[i] = MISE(AsymmetricClaw_estimation_UCV[i], density_AC)"
   ]
  },
  {
   "cell_type": "code",
   "execution_count": null,
   "id": "b84f4958",
   "metadata": {},
   "outputs": [],
   "source": [
    "fig, (ax1, ax2, ax3, ax4, ax5) = plt.subplots(5,figsize=(9, 12), dpi=100)\n",
    "ax1.set_title(\"Estimations pour une fenêtre optimisée avec la méthode UCV\")\n",
    "\n",
    "\n",
    "ax1.plot(domaine,density_Gauss,label = \"Densité Gaussienne\")\n",
    "ax2.plot(domaine,density_Kurtotic,label = \"Densité Kurtotic\")\n",
    "ax3.plot(domaine,density_ABi,label = \"Densité Bimodale asymétrique\")\n",
    "ax4.plot(domaine,density_Claw, label = \"Densité Griffe\")\n",
    "ax5.plot(domaine,density_AC, label = \"Densité Griffe asymétrique\")\n",
    "\n",
    "\n",
    "ax1.plot(domaine,Gaussian_estimation_UCV[0],label = \"Echantillon Gaussien\")\n",
    "ax2.plot(domaine,Kurtotic_estimation_UCV[0],label = \"Echantillon Kurtotic\")\n",
    "ax3.plot(domaine,AsymmetricBimodal_estimation_UCV[0],label = \"Echantillon Bimodal asymétrique\")\n",
    "ax4.plot(domaine,Claw_estimation_UCV[0], label = \"Echantillon Griffe\")\n",
    "ax5.plot(domaine,AsymmetricClaw_estimation_UCV[0], label = \"Echantillon Griffe asymétrique\")\n",
    "\n",
    "\n",
    "ax1.grid(True,which=\"both\", linestyle='--')\n",
    "ax2.grid(True,which=\"both\", linestyle='--')\n",
    "ax3.grid(True,which=\"both\", linestyle='--')\n",
    "ax4.grid(True,which=\"both\", linestyle='--')\n",
    "ax5.grid(True,which=\"both\", linestyle='--')\n",
    "\n",
    "ax1.legend()\n",
    "ax2.legend()\n",
    "ax3.legend()\n",
    "ax4.legend()\n",
    "ax5.legend()\n",
    "\n",
    "ax1.set_ylabel(\"y\")\n",
    "ax2.set_ylabel(\"y\")\n",
    "ax3.set_ylabel(\"y\")\n",
    "ax4.set_ylabel(\"y\")\n",
    "ax5.set_ylabel(\"y\")\n",
    "\n",
    "ax5.set_xlabel(\"x\")\n",
    "\n",
    "\n",
    "plt.legend()\n",
    "plt.show()"
   ]
  },
  {
   "cell_type": "code",
   "execution_count": null,
   "id": "f7db87b6",
   "metadata": {
    "scrolled": true
   },
   "outputs": [],
   "source": [
    "#Affichage des risques quadratiques pour la méthode UCV\n",
    "print(\"Pour une fenêtre optimisée avec la méthode UCV, le risque quadratique moyen de 50 échantillons vaut : \")\n",
    "print(\" \")\n",
    "print(\"R_UCV =\",np.mean(Gauss_MISE_UCV),\"pour l'échantillon gaussien.\")\n",
    "print(\" \")\n",
    "print(\"R_UCV =\",np.mean(Kurtotic_MISE_UCV),\"pour l'échantillon Kurtotic.\")\n",
    "print(\" \")\n",
    "print(\"R_UCV =\",np.mean(AsymmetricBimodal_MISE_UCV),\"pour l'échantillon Bimodal asymétrique.\")\n",
    "print(\" \")\n",
    "print(\"R_UCV =\",np.mean(Claw_MISE_UCV),\"pour l'échantillon Griffe.\")\n",
    "print(\" \")\n",
    "print(\"R_UCV =\",np.mean(AsymmetricClaw_MISE_UCV),\"pour l'échantillon Griffe asymétrique.\")"
   ]
  },
  {
   "cell_type": "markdown",
   "id": "05bf877e",
   "metadata": {},
   "source": [
    "## Penalized Comparison to Overfiting"
   ]
  },
  {
   "cell_type": "code",
   "execution_count": null,
   "id": "2df41351",
   "metadata": {},
   "outputs": [],
   "source": [
    "#Tableau du critère PCO\n",
    "Gauss_pco = np.zeros ((50,1000))\n",
    "Kurtotic_pco = np.zeros ((50,1000))\n",
    "ABi_pco = np.zeros ((50,1000))\n",
    "Claw_pco = np.zeros ((50,1000))\n",
    "AC_pco = np.zeros ((50,1000))\n",
    "\n",
    "h_Gauss_PCO = np.zeros((50,1))\n",
    "h_Kurtotic_PCO = np.zeros((50,1))\n",
    "h_ABi_PCO = np.zeros((50,1))\n",
    "h_Claw_PCO = np.zeros((50,1))\n",
    "h_AC_PCO = np.zeros((50,1))\n",
    "\n",
    "Gaussian_estimation_PCO = np.zeros((N,10000))\n",
    "Kurtotic_estimation_PCO = np.zeros((N,10000))\n",
    "AsymmetricBimodal_estimation_PCO = np.zeros((N,10000))\n",
    "Claw_estimation_PCO = np.zeros((N,10000))\n",
    "AsymmetricClaw_estimation_PCO = np.zeros((N,10000))\n",
    "\n",
    "Gauss_MISE_PCO = np.zeros((N,1))\n",
    "Kurtotic_MISE_PCO = np.zeros((N,1))\n",
    "AsymmetricBimodal_MISE_PCO = np.zeros((N,1))\n",
    "Claw_MISE_PCO = np.zeros((N,1))\n",
    "AsymmetricClaw_MISE_PCO = np.zeros((N,1))\n",
    "\n",
    "for i in range (N): \n",
    "\n",
    "    Gauss_pco[i] = PCO(Gaussian[i],domaine,h,K5,n)\n",
    "    Kurtotic_pco[i] = PCO(Kurt[i],domaine,h,K5,n)\n",
    "    ABi_pco[i] = PCO(ABi[i],domaine,h,K5,n)\n",
    "    Claw_pco[i] = PCO(Cl[i],domaine,h,K5,n)\n",
    "    AC_pco[i] = PCO(ACl[i],domaine,h,K5,n)\n",
    "    \n",
    "    #prend le h optimal pour ce même échantillon\n",
    "    h_Gauss_PCO[i] = h[np.argmin(Gauss_pco[i])]\n",
    "    h_Kurtotic_PCO[i] = h[np.argmin(Kurtotic_pco[i])]\n",
    "    h_ABi_PCO[i] = h[np.argmin(ABi_pco[i])]\n",
    "    h_Claw_PCO[i] = h[np.argmin(Claw_pco[i])]\n",
    "    h_AC_PCO[i] = h[np.argmin(AC_pco[i])]\n",
    "    \n",
    "    #estimations des densitées avec ce h opti\n",
    "    Gaussian_estimation_PCO[i] = Density_Estimator(Gaussian[i],domaine,h_Gauss_PCO[i],K5,n)\n",
    "    Kurtotic_estimation_PCO[i] = Density_Estimator(Kurt[i],domaine,h_Kurtotic_PCO[i],K5,n)\n",
    "    AsymmetricBimodal_estimation_PCO[i] = Density_Estimator(ABi[i],domaine,h_ABi_PCO[i],K5,n)\n",
    "    Claw_estimation_PCO[i] = Density_Estimator(Cl[i],domaine,h_Claw_PCO[i],K5,n)\n",
    "    AsymmetricClaw_estimation_PCO[i] = Density_Estimator(ACl[i],domaine,h_AC_PCO[i],K5,n)\n",
    "\n",
    "    #Risques quadratiques associés\n",
    "    Gauss_MISE_PCO[i] = MISE(Gaussian_estimation_PCO[i], density_Gauss)\n",
    "    Kurtotic_MISE_PCO[i] = MISE(Kurtotic_estimation_PCO[i], density_Kurtotic)\n",
    "    AsymmetricBimodal_MISE_PCO[i] = MISE(AsymmetricBimodal_estimation_PCO[i], density_ABi)\n",
    "    Claw_MISE_PCO[i] = MISE(Claw_estimation_PCO[i], density_Claw)\n",
    "    AsymmetricClaw_MISE_PCO[i] = MISE(AsymmetricClaw_estimation_PCO[i], density_AC)\n"
   ]
  },
  {
   "cell_type": "code",
   "execution_count": null,
   "id": "70138f2b",
   "metadata": {},
   "outputs": [],
   "source": [
    "fig, (ax1, ax2, ax3, ax4, ax5) = plt.subplots(5,figsize=(9, 12), dpi=100)\n",
    "ax1.set_title(\"Estimations pour une fenêtre optimisée avec la méthode PCO\")\n",
    "\n",
    "\n",
    "ax1.plot(domaine,density_Gauss,label = \"Densité Gaussienne\")\n",
    "ax2.plot(domaine,density_Kurtotic,label = \"Densité Kurtotic\")\n",
    "ax3.plot(domaine,density_ABi,label = \"Densité Bimodale asymétrique\")\n",
    "ax4.plot(domaine,density_Claw, label = \"Densité Griffe\")\n",
    "ax5.plot(domaine,density_AC, label = \"Densité Griffe asymétrique\")\n",
    "\n",
    "\n",
    "ax1.plot(domaine,Gaussian_estimation_PCO[0],label = \"Echantillon Gaussien\")\n",
    "ax2.plot(domaine,Kurtotic_estimation_PCO[0],label = \"Echantillon Kurtotic\")\n",
    "ax3.plot(domaine,AsymmetricBimodal_estimation_PCO[0],label = \"Echantillon Bimodal asymétrique\")\n",
    "ax4.plot(domaine,Claw_estimation_PCO[0], label = \"Echantillon Griffe\")\n",
    "ax5.plot(domaine,AsymmetricClaw_estimation_PCO[0], label = \"Echantillon Griffe asymétrique\")\n",
    "\n",
    "\n",
    "ax1.grid(True,which=\"both\", linestyle='--')\n",
    "ax2.grid(True,which=\"both\", linestyle='--')\n",
    "ax3.grid(True,which=\"both\", linestyle='--')\n",
    "ax4.grid(True,which=\"both\", linestyle='--')\n",
    "ax5.grid(True,which=\"both\", linestyle='--')\n",
    "\n",
    "ax1.legend()\n",
    "ax2.legend()\n",
    "ax3.legend()\n",
    "ax4.legend()\n",
    "ax5.legend()\n",
    "\n",
    "ax1.set_ylabel(\"y\")\n",
    "ax2.set_ylabel(\"y\")\n",
    "ax3.set_ylabel(\"y\")\n",
    "ax4.set_ylabel(\"y\")\n",
    "ax5.set_ylabel(\"y\")\n",
    "\n",
    "ax5.set_xlabel(\"x\")\n",
    "\n",
    "\n",
    "plt.legend()\n",
    "plt.show()"
   ]
  },
  {
   "cell_type": "code",
   "execution_count": null,
   "id": "6a3c071b",
   "metadata": {},
   "outputs": [],
   "source": [
    "#Affichage des risques quadratiques pour la méthode PCO\n",
    "print(\"Pour une fenêtre optimisée avec la méthode PCO, le risque quadratique moyen de 50 échantillons vaut : \")\n",
    "print(\" \")\n",
    "print(\"R_PCO =\",np.mean(Gauss_MISE_PCO),\"pour l'échantillon gaussien.\")\n",
    "print(\" \")\n",
    "print(\"R_PCO =\",np.mean(Kurtotic_MISE_PCO),\"pour l'échantillon Kurtotic.\")\n",
    "print(\" \")\n",
    "print(\"R_PCO =\",np.mean(AsymmetricBimodal_MISE_PCO),\"pour l'échantillon Bimodal asymétrique.\")\n",
    "print(\" \")\n",
    "print(\"R_PCO =\",np.mean(Claw_MISE_PCO),\"pour l'échantillon Griffe.\")\n",
    "print(\" \")\n",
    "print(\"R_PCO =\",np.mean(AsymmetricClaw_MISE_PCO),\"pour l'échantillon Griffe asymétrique.\")"
   ]
  },
  {
   "cell_type": "markdown",
   "id": "a15bc7dc",
   "metadata": {},
   "source": [
    "## Synthèse minimisation"
   ]
  },
  {
   "cell_type": "code",
   "execution_count": null,
   "id": "a4b2a30e",
   "metadata": {},
   "outputs": [],
   "source": [
    "#Affichage des risques quadratiques\n",
    "\n",
    "print(\"Pour l'échantillon gaussien :\")\n",
    "\n",
    "print(\" \")\n",
    "\n",
    "print(\"R_INIT =\",np.mean(Gauss_MISE1))\n",
    "print(\"R_SILVER =\",np.mean(Gauss_MISE_SILVER))\n",
    "print(\"R_UCV =\",np.mean(Gauss_MISE_UCV))\n",
    "print(\"R_PCO =\",np.mean(Gauss_MISE_PCO))\n",
    "\n",
    "print(\" \")\n",
    "\n",
    "print(\"Pour l'échantillon Kurtotic :\")\n",
    "\n",
    "print(\" \")\n",
    "\n",
    "print(\"R_INIT =\",np.mean(Kurtotic_MISE1))\n",
    "print(\"R_SILVER =\",np.mean(Kurtotic_MISE_SILVER))\n",
    "print(\"R_UCV =\",np.mean(Kurtotic_MISE_UCV))\n",
    "print(\"R_PCO =\",np.mean(Kurtotic_MISE_PCO))\n",
    "\n",
    "print(\" \")\n",
    "\n",
    "print(\"Pour l'échantillon Bimodal asymétrique : \")\n",
    "\n",
    "print(\" \")\n",
    "\n",
    "print(\"R_INIT =\",np.mean(AsymmetricBimodal_MISE1))\n",
    "print(\"R_SILVER =\",np.mean(AsymmetricBimodal_MISE_SILVER))\n",
    "print(\"R_UCV =\",np.mean(AsymmetricBimodal_MISE_UCV))\n",
    "print(\"R_PCO =\",np.mean(AsymmetricBimodal_MISE_PCO))\n",
    "\n",
    "print(\" \")\n",
    "\n",
    "print(\"Pour l'échantillon Griffe :\")\n",
    "\n",
    "print(\" \")\n",
    "\n",
    "print(\"R_INIT =\",np.mean(Claw_MISE1))\n",
    "print(\"R_SILVER =\",np.mean(Claw_MISE_SILVER))\n",
    "print(\"R_UCV =\",np.mean(Claw_MISE_UCV))\n",
    "print(\"R_PCO =\",np.mean(Claw_MISE_PCO))\n",
    "\n",
    "print(\" \")\n",
    "\n",
    "print(\"Pour l'échantillon Griffe asymétrique :\")\n",
    "\n",
    "print(\" \")\n",
    "\n",
    "print(\"R_INIT =\",np.mean(AsymmetricClaw_MISE1))\n",
    "print(\"R_SILVER =\",np.mean(AsymmetricClaw_MISE_SILVER))\n",
    "print(\"R_UCV =\",np.mean(AsymmetricClaw_MISE_UCV))\n",
    "print(\"R_PCO =\",np.mean(AsymmetricClaw_MISE_PCO))"
   ]
  },
  {
   "cell_type": "code",
   "execution_count": null,
   "id": "4c57f0fa",
   "metadata": {},
   "outputs": [],
   "source": []
  }
 ],
 "metadata": {
  "kernelspec": {
   "display_name": "Python 3 (ipykernel)",
   "language": "python",
   "name": "python3"
  },
  "language_info": {
   "codemirror_mode": {
    "name": "ipython",
    "version": 3
   },
   "file_extension": ".py",
   "mimetype": "text/x-python",
   "name": "python",
   "nbconvert_exporter": "python",
   "pygments_lexer": "ipython3",
   "version": "3.9.7"
  },
  "toc": {
   "base_numbering": 1,
   "nav_menu": {},
   "number_sections": true,
   "sideBar": true,
   "skip_h1_title": false,
   "title_cell": "Table of Contents",
   "title_sidebar": "Contents",
   "toc_cell": false,
   "toc_position": {},
   "toc_section_display": true,
   "toc_window_display": false
  },
  "varInspector": {
   "cols": {
    "lenName": 16,
    "lenType": 16,
    "lenVar": 40
   },
   "kernels_config": {
    "python": {
     "delete_cmd_postfix": "",
     "delete_cmd_prefix": "del ",
     "library": "var_list.py",
     "varRefreshCmd": "print(var_dic_list())"
    },
    "r": {
     "delete_cmd_postfix": ") ",
     "delete_cmd_prefix": "rm(",
     "library": "var_list.r",
     "varRefreshCmd": "cat(var_dic_list()) "
    }
   },
   "types_to_exclude": [
    "module",
    "function",
    "builtin_function_or_method",
    "instance",
    "_Feature"
   ],
   "window_display": false
  }
 },
 "nbformat": 4,
 "nbformat_minor": 5
}
